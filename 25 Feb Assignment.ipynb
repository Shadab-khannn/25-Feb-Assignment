{
 "cells": [
  {
   "cell_type": "code",
   "execution_count": null,
   "id": "352ead46-e320-4915-a9a9-a3e4d719f943",
   "metadata": {},
   "outputs": [],
   "source": [
    "Consider following code to answer further questions:"
   ]
  },
  {
   "cell_type": "code",
   "execution_count": 1,
   "id": "7688b714-ec8f-452d-8a44-0db7362fe2ba",
   "metadata": {},
   "outputs": [],
   "source": [
    "import pandas as pd\n",
    "course_name = ['Data Science', 'Machine Learning', 'Big Data', 'Data Engineer']\n",
    "duration = [2,3,6,4]\n",
    "df = pd.DataFrame(data = {'course_name' : course_name, 'duration' : duration})"
   ]
  },
  {
   "cell_type": "code",
   "execution_count": null,
   "id": "dd34299c-d5ab-4881-9298-9df794a411bd",
   "metadata": {},
   "outputs": [],
   "source": []
  },
  {
   "cell_type": "code",
   "execution_count": null,
   "id": "47bb410f-b64f-48e3-9dd0-35a2122acbe1",
   "metadata": {},
   "outputs": [],
   "source": [
    "Q1. Write a code to print the data present in the second row of the dataframe,"
   ]
  },
  {
   "cell_type": "markdown",
   "id": "20a7a07a-2833-4138-93b0-2efd2eefe1ab",
   "metadata": {},
   "source": [
    "ANS -"
   ]
  },
  {
   "cell_type": "code",
   "execution_count": 2,
   "id": "9713024c-f487-40aa-825c-f3924a17477c",
   "metadata": {},
   "outputs": [
    {
     "name": "stdout",
     "output_type": "stream",
     "text": [
      "course_name    Machine Learning\n",
      "duration                      3\n",
      "Name: 1, dtype: object\n"
     ]
    }
   ],
   "source": [
    "import pandas as pd\n",
    "\n",
    "df = pd.DataFrame(data = {'course_name' : course_name, 'duration' : duration})\n",
    "\n",
    "print(df.iloc[1])"
   ]
  },
  {
   "cell_type": "code",
   "execution_count": null,
   "id": "2b1b2d24-aff0-4e15-9398-96a5e3f1d54b",
   "metadata": {},
   "outputs": [],
   "source": []
  },
  {
   "cell_type": "code",
   "execution_count": null,
   "id": "42344bed-ed62-4a7b-989e-e3694b07cf14",
   "metadata": {},
   "outputs": [],
   "source": [
    "Q2. What is the difference between the functions loc and iloc in pandas.DataFrame?"
   ]
  },
  {
   "cell_type": "markdown",
   "id": "2eb273f3-76b7-4e2e-8a76-cfdc2e64540b",
   "metadata": {},
   "source": [
    "ANS -"
   ]
  },
  {
   "cell_type": "code",
   "execution_count": null,
   "id": "5f8690dc-8a2f-4ce9-866a-802d0ded011b",
   "metadata": {},
   "outputs": [],
   "source": [
    "The main difference between loc[] and iloc[] is that loc[] gets DataFrame rows & columns by labels/names and \n",
    "iloc[] gets by integer Index/position. If the label is not present in loc[], it gives a key error. If the position is \n",
    "not present in iloc[], it gives an index error.\n",
    "\n",
    "In other words, loc[] is typically used for label indexing and can access multiple columns while iloc[] is used for integer indexing."
   ]
  },
  {
   "cell_type": "code",
   "execution_count": null,
   "id": "3ebcd605-bbb8-4ca7-a9d8-0449e943fc27",
   "metadata": {},
   "outputs": [],
   "source": []
  },
  {
   "cell_type": "code",
   "execution_count": null,
   "id": "0339aad6-b24c-46e5-91c3-bd782d2fd2d5",
   "metadata": {},
   "outputs": [],
   "source": [
    "Q3. Reindex the given dataframe using a variable, reindex = [3,0,1,2] and store it in the variable, new_df\n",
    "then find the output for both new_df.loc[2] and new_df.iloc[2]."
   ]
  },
  {
   "cell_type": "markdown",
   "id": "dca3754a-3c3b-4cb6-a407-d64acc3addc7",
   "metadata": {},
   "source": [
    "ANS -"
   ]
  },
  {
   "cell_type": "code",
   "execution_count": 3,
   "id": "c0a50b87-e655-44c4-a705-841c69dc3451",
   "metadata": {},
   "outputs": [],
   "source": [
    "import pandas as pd\n",
    "import numpy as np\n",
    "columns = ['column_1', 'column_2', 'column_3', 'column_4', 'column_5', 'column_6']\n",
    "indices = [1,2,3,4,5,6]\n",
    "#Creating a dataframe:\n",
    "new_df1 = pd.DataFrame(np.random.rand(6,6), columns = columns, index = indices)"
   ]
  },
  {
   "cell_type": "code",
   "execution_count": 4,
   "id": "b0557abd-ccec-449a-b3f3-2c6f0df875ed",
   "metadata": {},
   "outputs": [
    {
     "name": "stdout",
     "output_type": "stream",
     "text": [
      "A    3\n",
      "B    6\n",
      "C    9\n",
      "Name: 2, dtype: int64\n",
      "column_1    0.904542\n",
      "column_2    0.358226\n",
      "column_3    0.203800\n",
      "column_4    0.501678\n",
      "column_5    0.011171\n",
      "column_6    0.780661\n",
      "Name: 3, dtype: float64\n"
     ]
    }
   ],
   "source": [
    "import pandas as pd\n",
    "\n",
    "df = pd.DataFrame({'A': [1, 2, 3], 'B': [4, 5, 6], 'C': [7, 8, 9]})\n",
    "reindex = [3,0,1,2]\n",
    "new_df = df.reindex(reindex)\n",
    "\n",
    "print(df.loc[2])\n",
    "print(new_df1.iloc[2])"
   ]
  },
  {
   "cell_type": "code",
   "execution_count": null,
   "id": "7e816bdd-31b8-4d55-8267-f53422430a16",
   "metadata": {},
   "outputs": [],
   "source": []
  },
  {
   "cell_type": "code",
   "execution_count": null,
   "id": "93da4357-0483-4b6f-8b54-203abe4959d2",
   "metadata": {},
   "outputs": [],
   "source": [
    "Q4. Write a code to find the following statistical measurements for the above dataframe df1:"
   ]
  },
  {
   "cell_type": "markdown",
   "id": "77ebc80d-e683-47e8-9b6d-4e1158034869",
   "metadata": {},
   "source": [
    "ANS -"
   ]
  },
  {
   "cell_type": "code",
   "execution_count": 5,
   "id": "bd49c90e-b88a-47c0-a296-d694c17ec247",
   "metadata": {},
   "outputs": [],
   "source": [
    "df1 = pd.DataFrame(np.random.rand(6,6), columns = columns, index = indices)"
   ]
  },
  {
   "cell_type": "code",
   "execution_count": 6,
   "id": "d2bcb881-226d-4aa9-95b1-200fae5f11c0",
   "metadata": {},
   "outputs": [
    {
     "data": {
      "text/plain": [
       "column_1    0.466029\n",
       "column_2    0.743548\n",
       "column_3    0.436747\n",
       "column_4    0.452399\n",
       "column_5    0.332185\n",
       "column_6    0.542757\n",
       "dtype: float64"
      ]
     },
     "execution_count": 6,
     "metadata": {},
     "output_type": "execute_result"
    }
   ],
   "source": [
    "df1.mean()"
   ]
  },
  {
   "cell_type": "code",
   "execution_count": 7,
   "id": "4953a5dc-a4fc-484a-8d66-7328a95d71cc",
   "metadata": {},
   "outputs": [
    {
     "data": {
      "text/plain": [
       "0.1224544317700634"
      ]
     },
     "execution_count": 7,
     "metadata": {},
     "output_type": "execute_result"
    }
   ],
   "source": [
    "df1['column_2'].std()"
   ]
  },
  {
   "cell_type": "code",
   "execution_count": null,
   "id": "582a0953-f558-40cc-8f10-ed0b4f14c05a",
   "metadata": {},
   "outputs": [],
   "source": []
  },
  {
   "cell_type": "code",
   "execution_count": null,
   "id": "47c38685-3e23-477e-965a-8ae475fee2a3",
   "metadata": {},
   "outputs": [],
   "source": [
    "Q5. Replace the data present in the second row of column, ‘column_2’ by a string variable then find the\n",
    "mean of column, column_2.\n",
    "If you are getting errors in executing it then explain why.\n",
    "[Hint: To replace the data use df1.loc[] and equate this to string data of your choice.]"
   ]
  },
  {
   "cell_type": "markdown",
   "id": "d8af28be-b371-4c7f-b5f5-d05df8bce42e",
   "metadata": {},
   "source": [
    "ANS -"
   ]
  },
  {
   "cell_type": "code",
   "execution_count": 8,
   "id": "b8cda636-bcaf-4f0a-823b-ac5f218296a7",
   "metadata": {},
   "outputs": [
    {
     "name": "stdout",
     "output_type": "stream",
     "text": [
      "Original Dataframe:\n",
      "    column_1  column_2\n",
      "0         1       4.0\n",
      "1         2       5.0\n",
      "2         3       6.0\n",
      "Dataframe after replacing second row of column_2 with string data:\n",
      "       column_1     column_2\n",
      "0            1          4.0\n",
      "1  string data  string data\n",
      "2            3          6.0\n",
      "Mean of column_2: 0.7435475728303165\n"
     ]
    }
   ],
   "source": [
    "import pandas as pd\n",
    "\n",
    "new_df1 = pd.DataFrame({'column_1': [1, 2, 3], 'column_2': [4.0, 5.0, 6.0]})\n",
    "print(\"Original Dataframe:\\n\", new_df1)\n",
    "\n",
    "new_df1.loc[1] = \"string data\"\n",
    "print(\"Dataframe after replacing second row of column_2 with string data:\\n\", new_df1)\n",
    "\n",
    "mean = df1['column_2'].mean()\n",
    "print(\"Mean of column_2:\", mean)"
   ]
  },
  {
   "cell_type": "code",
   "execution_count": null,
   "id": "bb58ebde-42fb-43b4-acd3-c11f577ffb81",
   "metadata": {},
   "outputs": [],
   "source": []
  },
  {
   "cell_type": "code",
   "execution_count": null,
   "id": "4c866b92-5c17-48ab-af89-35a69f16d181",
   "metadata": {},
   "outputs": [],
   "source": [
    "Q6. What do you understand about the windows function in pandas and list the types of windows\n",
    "functions?"
   ]
  },
  {
   "cell_type": "markdown",
   "id": "ab401086-e0d0-4298-8ec0-6c635407350e",
   "metadata": {},
   "source": [
    "ANS -"
   ]
  },
  {
   "cell_type": "code",
   "execution_count": null,
   "id": "64c110ee-4af0-4378-a64e-ab6bb9329061",
   "metadata": {},
   "outputs": [],
   "source": [
    "Pandas supports four types of windowing operations:\n",
    "\n",
    "1.Rolling window: Generic fixed or variable sliding window over the values.\n",
    "2.Weighted window: Weighted, non-rectangular window supplied by the scipy.signal library.\n",
    "3.Expanding window: Accumulating window over the values.\n",
    "4.Exponentially Weighted window: Accumulating and exponentially weighted window over the values.\n",
    "\n",
    "You can use these functions mainly through the operators rolling and expanding. When called on a pandas Series or Dataframe,\n",
    "they return a Rolling or Expanding object that enables grouping over a rolling or expanding window, respectively."
   ]
  },
  {
   "cell_type": "code",
   "execution_count": null,
   "id": "d3c6cd7e-3cb1-452c-a82d-885bc0660424",
   "metadata": {},
   "outputs": [],
   "source": []
  },
  {
   "cell_type": "code",
   "execution_count": null,
   "id": "0c787cf3-63c2-4165-957b-1ab4d661e90a",
   "metadata": {},
   "outputs": [],
   "source": [
    "Q7. Write a code to print only the current month and year at the time of answering this question.\n",
    "[Hint: Use pandas.datetime function]"
   ]
  },
  {
   "cell_type": "markdown",
   "id": "daa8c53a-796c-4189-8baa-2fa88ba148cc",
   "metadata": {},
   "source": [
    "ANS -"
   ]
  },
  {
   "cell_type": "code",
   "execution_count": 9,
   "id": "0c71a800-990c-4c7a-872c-f25ab933af39",
   "metadata": {},
   "outputs": [
    {
     "name": "stdout",
     "output_type": "stream",
     "text": [
      "2023-07\n"
     ]
    },
    {
     "name": "stderr",
     "output_type": "stream",
     "text": [
      "/tmp/ipykernel_749/3352417453.py:3: FutureWarning: The pandas.datetime class is deprecated and will be removed from pandas in a future version. Import from datetime module instead.\n",
      "  now = pd.datetime.now()\n"
     ]
    }
   ],
   "source": [
    "import pandas as pd\n",
    "\n",
    "now = pd.datetime.now()\n",
    "print(now.strftime(\"%Y-%m\"))"
   ]
  },
  {
   "cell_type": "code",
   "execution_count": null,
   "id": "16870875-79a7-4250-8b1c-dececc23f048",
   "metadata": {},
   "outputs": [],
   "source": []
  },
  {
   "cell_type": "code",
   "execution_count": null,
   "id": "9997a1f9-8089-46c1-a467-c41fa6b079b3",
   "metadata": {},
   "outputs": [],
   "source": [
    "Q8. Write a Python program that takes in two dates as input (in the format YYYY-MM-DD) and\n",
    "calculates the difference between them in days, hours, and minutes using Pandas time delta. The\n",
    "program should prompt the user to enter the dates and display the result."
   ]
  },
  {
   "cell_type": "markdown",
   "id": "07d42a1d-8175-4678-b58a-01d47e8bfa17",
   "metadata": {},
   "source": [
    "ANS -"
   ]
  },
  {
   "cell_type": "code",
   "execution_count": 10,
   "id": "0fc4055a-34d3-4744-8770-36586df1e775",
   "metadata": {},
   "outputs": [
    {
     "name": "stdin",
     "output_type": "stream",
     "text": [
      "Enter first date (YYYY-MM-DD):  2021-08-12\n",
      "Enter second date (YYYY-MM-DD):  2021-07-05\n"
     ]
    },
    {
     "name": "stdout",
     "output_type": "stream",
     "text": [
      "Time difference: -38 days, 0 hours, 0 minutes\n"
     ]
    }
   ],
   "source": [
    "import pandas as pd\n",
    "\n",
    "date1 = input(\"Enter first date (YYYY-MM-DD): \")\n",
    "date2 = input(\"Enter second date (YYYY-MM-DD): \")\n",
    "\n",
    "# Convert input strings to datetime objects\n",
    "date1 = pd.to_datetime(date1)\n",
    "date2 = pd.to_datetime(date2)\n",
    "\n",
    "# Calculate time difference\n",
    "time_diff = date2 - date1\n",
    "\n",
    "# Extract days, hours, and minutes from time difference\n",
    "days = time_diff.days\n",
    "hours = time_diff.seconds // 3600\n",
    "minutes = (time_diff.seconds // 60) % 60\n",
    "\n",
    "print(f\"Time difference: {days} days, {hours} hours, {minutes} minutes\")"
   ]
  },
  {
   "cell_type": "code",
   "execution_count": null,
   "id": "0870d48d-9ead-4e6d-b690-82a668d6c182",
   "metadata": {},
   "outputs": [],
   "source": []
  },
  {
   "cell_type": "code",
   "execution_count": null,
   "id": "cb471295-2ab8-4842-a435-c076f1ff21ee",
   "metadata": {},
   "outputs": [],
   "source": [
    "Q9. Write a Python program that reads a CSV file containing categorical data and converts a specified\n",
    "column to a categorical data type. The program should prompt the user to enter the file path, column\n",
    "name, and category order, and then display the sorted data."
   ]
  },
  {
   "cell_type": "markdown",
   "id": "64c7c630-5493-46a2-a9f2-fc28fb8c0333",
   "metadata": {},
   "source": [
    "ANS -"
   ]
  },
  {
   "cell_type": "code",
   "execution_count": 13,
   "id": "272cebd4-8d8c-4d74-b1c4-d655726dec7e",
   "metadata": {},
   "outputs": [
    {
     "name": "stdin",
     "output_type": "stream",
     "text": [
      "Enter file path:  diabetes.csv\n",
      "Enter column name:  Glucose\n",
      "Enter category order (comma-separated):  .\n"
     ]
    },
    {
     "name": "stdout",
     "output_type": "stream",
     "text": [
      "     Pregnancies Glucose  BloodPressure  SkinThickness  Insulin   BMI  \\\n",
      "0              6     NaN             72             35        0  33.6   \n",
      "1              1     NaN             66             29        0  26.6   \n",
      "2              8     NaN             64              0        0  23.3   \n",
      "3              1     NaN             66             23       94  28.1   \n",
      "4              0     NaN             40             35      168  43.1   \n",
      "..           ...     ...            ...            ...      ...   ...   \n",
      "763           10     NaN             76             48      180  32.9   \n",
      "764            2     NaN             70             27        0  36.8   \n",
      "765            5     NaN             72             23      112  26.2   \n",
      "766            1     NaN             60              0        0  30.1   \n",
      "767            1     NaN             70             31        0  30.4   \n",
      "\n",
      "     DiabetesPedigreeFunction  Age  Outcome  \n",
      "0                       0.627   50        1  \n",
      "1                       0.351   31        0  \n",
      "2                       0.672   32        1  \n",
      "3                       0.167   21        0  \n",
      "4                       2.288   33        1  \n",
      "..                        ...  ...      ...  \n",
      "763                     0.171   63        0  \n",
      "764                     0.340   27        0  \n",
      "765                     0.245   30        0  \n",
      "766                     0.349   47        1  \n",
      "767                     0.315   23        0  \n",
      "\n",
      "[768 rows x 9 columns]\n"
     ]
    }
   ],
   "source": [
    "import pandas as pd\n",
    "\n",
    "file_path = input(\"Enter file path: \")\n",
    "column_name = input(\"Enter column name: \")\n",
    "category_order = input(\"Enter category order (comma-separated): \").split(\",\")\n",
    "\n",
    "data = pd.read_csv(file_path)\n",
    "data[column_name] = pd.Categorical(data[column_name], categories=category_order)\n",
    "data.sort_values(by=[column_name], inplace=True)\n",
    "\n",
    "print(data)"
   ]
  },
  {
   "cell_type": "code",
   "execution_count": null,
   "id": "eb08938f-295a-4ce0-9c09-f293343f5acd",
   "metadata": {},
   "outputs": [],
   "source": []
  },
  {
   "cell_type": "code",
   "execution_count": null,
   "id": "37158a98-ee2c-47ab-a6e5-c17806e67f65",
   "metadata": {},
   "outputs": [],
   "source": [
    "Q10. Write a Python program that reads a CSV file containing sales data for different products and\n",
    "visualizes the data using a stacked bar chart to show the sales of each product category over time. The\n",
    "program should prompt the user to enter the file path and display the chart."
   ]
  },
  {
   "cell_type": "markdown",
   "id": "1a7d3b24-ee06-4d18-86ff-23157c9509f0",
   "metadata": {},
   "source": [
    "ANS -"
   ]
  },
  {
   "cell_type": "code",
   "execution_count": null,
   "id": "0506f33a-1201-45ed-8e03-11bb7d72cc6a",
   "metadata": {},
   "outputs": [],
   "source": []
  },
  {
   "cell_type": "code",
   "execution_count": null,
   "id": "ccc2a9db-7412-491b-afe2-134c764180b1",
   "metadata": {},
   "outputs": [],
   "source": []
  },
  {
   "cell_type": "code",
   "execution_count": null,
   "id": "bacdc15d-8659-45bc-864e-d5b6565b7fcf",
   "metadata": {},
   "outputs": [],
   "source": []
  },
  {
   "cell_type": "code",
   "execution_count": null,
   "id": "f8fa4efa-23d4-4e2a-9c00-9eef40be62af",
   "metadata": {},
   "outputs": [],
   "source": [
    "Q11. You are given a CSV file containing student data that includes the student ID and their test score. Write\n",
    "a Python program that reads the CSV file, calculates the mean, median, and mode of the test scores, and\n",
    "displays the results in a table.\n",
    "The program should do the followingM\n",
    "I Prompt the user to enter the file path of the CSV file containing the student dataR\n",
    "I Read the CSV file into a Pandas DataFrameR\n",
    "I Calculate the mean, median, and mode of the test scores using Pandas toolsR\n",
    "I Display the mean, median, and mode in a table.\n",
    "Assume the CSV file contains the following columnsM\n",
    "I Student ID: The ID of the studentR\n",
    "I Test Score: The score of the student's test.\n",
    "Example usage of the program:\n",
    "Enter the file path of the CSV file containing the student data: student_data.csv\n",
    "+-----------+--------+\n",
    "| Statistic | Value |\n",
    "+-----------+--------+\n",
    "| Mean | 79.6 |\n",
    "| Median | 82 |\n",
    "| Mode | 85, 90 |\n",
    "+-----------+--------+\n",
    "Assume that the CSV file student_data.csv contains the following data:\n",
    "Student ID,Test Score\n",
    "1,85\n",
    "2,90\n",
    "3,80\n",
    "4,75\n",
    "5,85\n",
    "6,82\n",
    "7,78\n",
    "8,85\n",
    "9,90\n",
    "10,85\n",
    "The program should calculate the mean, median, and mode of the test scores and display the results\n",
    "in a table."
   ]
  },
  {
   "cell_type": "markdown",
   "id": "c2b710aa-501b-4954-a107-f155e54482e1",
   "metadata": {},
   "source": [
    "ANS -"
   ]
  },
  {
   "cell_type": "code",
   "execution_count": null,
   "id": "f5b0652e-945a-4181-a1b6-ab9be8555b6b",
   "metadata": {},
   "outputs": [],
   "source": [
    "import pandas as pd\n",
    "\n",
    "# Prompt user for file path\n",
    "file_path = input(\"Enter the file path of the CSV file containing the student data: \")\n",
    "\n",
    "# Read CSV file into a Pandas DataFrame\n",
    "df = pd.read_csv(file_path)\n",
    "\n",
    "# Calculate mean, median and mode of test scores using Pandas tools\n",
    "mean = df['Test Score'].mean()\n",
    "median = df['Test Score'].median()\n",
    "mode = df['Test Score'].mode()\n",
    "\n",
    "# Display mean, median and mode in a table\n",
    "print(\"+-----------+--------+\")\n",
    "print(\"| Statistic | Value  |\")\n",
    "print(\"+-----------+--------+\")\n",
    "print(f\"| Mean      | {mean:.1f}  |\")\n",
    "print(f\"| Median    | {median}  |\")\n",
    "print(f\"| Mode      | {', '.join(map(str, mode.tolist()))}  |\")\n",
    "print(\"+-----------+--------+\")"
   ]
  },
  {
   "cell_type": "code",
   "execution_count": null,
   "id": "965d9f0e-a52f-4813-b569-0559af4e490c",
   "metadata": {},
   "outputs": [],
   "source": [
    "Student ID,Test Score\n",
    "1,85\n",
    "2,90\n",
    "3,80\n",
    "4,75\n",
    "5,85\n",
    "6,82\n",
    "7,78\n",
    "8,85\n",
    "9,90\n",
    "10,85"
   ]
  },
  {
   "cell_type": "code",
   "execution_count": null,
   "id": "240b5c82-fa24-47da-94b4-46b867a39bcd",
   "metadata": {},
   "outputs": [],
   "source": [
    "Enter the file path of the CSV file containing the student data: student_data.csv\n",
    "\n",
    "+-----------+--------+\n",
    "| Statistic | Value  |\n",
    "+-----------+--------+\n",
    "| Mean      | 83.0   |\n",
    "| Median    | 85     |\n",
    "| Mode      | 85     |\n",
    "+-----------+--------+"
   ]
  },
  {
   "cell_type": "code",
   "execution_count": null,
   "id": "2b6ec296-1fbb-4033-96c4-115a590fd809",
   "metadata": {},
   "outputs": [],
   "source": []
  },
  {
   "cell_type": "code",
   "execution_count": null,
   "id": "e65c748b-cc31-47ac-aa72-ed25139a71e9",
   "metadata": {},
   "outputs": [],
   "source": []
  },
  {
   "cell_type": "code",
   "execution_count": null,
   "id": "b1640e51-b59a-479c-a928-c3b273e06f47",
   "metadata": {},
   "outputs": [],
   "source": []
  }
 ],
 "metadata": {
  "kernelspec": {
   "display_name": "Python 3 (ipykernel)",
   "language": "python",
   "name": "python3"
  },
  "language_info": {
   "codemirror_mode": {
    "name": "ipython",
    "version": 3
   },
   "file_extension": ".py",
   "mimetype": "text/x-python",
   "name": "python",
   "nbconvert_exporter": "python",
   "pygments_lexer": "ipython3",
   "version": "3.10.8"
  }
 },
 "nbformat": 4,
 "nbformat_minor": 5
}
